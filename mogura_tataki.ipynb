{
 "cells": [
  {
   "cell_type": "code",
   "execution_count": 8,
   "id": "a9283971-b8d9-4fcb-8849-5efa243eaa46",
   "metadata": {},
   "outputs": [
    {
     "name": "stdout",
     "output_type": "stream",
     "text": [
      "-----ゲーム開始‼-----\n",
      " _._  _._  _._  _o_  _._  _._  _._  _._ \n",
      " [0]  [1]  [2]  [3]  [4]  [5]  [6]  [7] \n"
     ]
    },
    {
     "name": "stdin",
     "output_type": "stream",
     "text": [
      "モグラのいる箇所を当てて下さい 3\n"
     ]
    },
    {
     "name": "stdout",
     "output_type": "stream",
     "text": [
      "HIT!\n",
      " _o_  _._  _._  _._  _._  _._  _._  _._ \n",
      " [0]  [1]  [2]  [3]  [4]  [5]  [6]  [7] \n"
     ]
    },
    {
     "name": "stdin",
     "output_type": "stream",
     "text": [
      "モグラのいる箇所を当てて下さい 0\n"
     ]
    },
    {
     "name": "stdout",
     "output_type": "stream",
     "text": [
      "HIT!\n",
      " _._  _._  _._  _._  _o_  _._  _._  _._ \n",
      " [0]  [1]  [2]  [3]  [4]  [5]  [6]  [7] \n"
     ]
    },
    {
     "name": "stdin",
     "output_type": "stream",
     "text": [
      "モグラのいる箇所を当てて下さい 4\n"
     ]
    },
    {
     "name": "stdout",
     "output_type": "stream",
     "text": [
      "HIT!\n",
      " _._  _._  _._  _._  _._  _._  _._  _o_ \n",
      " [0]  [1]  [2]  [3]  [4]  [5]  [6]  [7] \n"
     ]
    },
    {
     "name": "stdin",
     "output_type": "stream",
     "text": [
      "モグラのいる箇所を当てて下さい 7\n"
     ]
    },
    {
     "name": "stdout",
     "output_type": "stream",
     "text": [
      "HIT!\n",
      " _._  _._  _._  _._  _._  _o_  _._  _._ \n",
      " [0]  [1]  [2]  [3]  [4]  [5]  [6]  [7] \n"
     ]
    },
    {
     "name": "stdin",
     "output_type": "stream",
     "text": [
      "モグラのいる箇所を当てて下さい 5\n"
     ]
    },
    {
     "name": "stdout",
     "output_type": "stream",
     "text": [
      "HIT!\n",
      " _o_  _._  _._  _._  _._  _._  _._  _._ \n",
      " [0]  [1]  [2]  [3]  [4]  [5]  [6]  [7] \n"
     ]
    },
    {
     "name": "stdin",
     "output_type": "stream",
     "text": [
      "モグラのいる箇所を当てて下さい 0\n"
     ]
    },
    {
     "name": "stdout",
     "output_type": "stream",
     "text": [
      "HIT!\n",
      " _._  _._  _._  _o_  _._  _._  _._  _._ \n",
      " [0]  [1]  [2]  [3]  [4]  [5]  [6]  [7] \n"
     ]
    },
    {
     "name": "stdin",
     "output_type": "stream",
     "text": [
      "モグラのいる箇所を当てて下さい 3\n"
     ]
    },
    {
     "name": "stdout",
     "output_type": "stream",
     "text": [
      "HIT!\n",
      " _o_  _._  _._  _._  _._  _._  _._  _._ \n",
      " [0]  [1]  [2]  [3]  [4]  [5]  [6]  [7] \n"
     ]
    },
    {
     "name": "stdin",
     "output_type": "stream",
     "text": [
      "モグラのいる箇所を当てて下さい 0\n"
     ]
    },
    {
     "name": "stdout",
     "output_type": "stream",
     "text": [
      "HIT!\n",
      " _._  _._  _._  _._  _o_  _._  _._  _._ \n",
      " [0]  [1]  [2]  [3]  [4]  [5]  [6]  [7] \n"
     ]
    },
    {
     "name": "stdin",
     "output_type": "stream",
     "text": [
      "モグラのいる箇所を当てて下さい 4\n"
     ]
    },
    {
     "name": "stdout",
     "output_type": "stream",
     "text": [
      "HIT!\n",
      " _._  _._  _._  _._  _._  _o_  _._  _._ \n",
      " [0]  [1]  [2]  [3]  [4]  [5]  [6]  [7] \n"
     ]
    },
    {
     "name": "stdin",
     "output_type": "stream",
     "text": [
      "モグラのいる箇所を当てて下さい 5\n"
     ]
    },
    {
     "name": "stdout",
     "output_type": "stream",
     "text": [
      "HIT!\n",
      "ゲーム終了‼\n",
      "最終得点: 42.473849296569824 点\n"
     ]
    }
   ],
   "source": [
    "# もぐらたたきゲーム 自作\n",
    "import time\n",
    "import random\n",
    "\n",
    "# もぐらたたきゲームの本体部分\n",
    "def mogura(r) :\n",
    "    n = ''\n",
    "    m = ''\n",
    "# 0~7の数値の内、1つの場所からモグラが出る(引数のrにランダムな値を入れる)\n",
    "# ※モグラ＝0　,　穴＝.　で表示\n",
    "    for i in range(8) :\n",
    "        ana = '.'\n",
    "        if i == r :\n",
    "            ana = 'o'\n",
    "        n = n + ' _' + ana + '_ '\n",
    "# 場所番号を表示\n",
    "        m = m + ' [' + str(i) + '] '\n",
    "\n",
    "    print(n)\n",
    "    print(m)\n",
    "\n",
    "# ゲーム開始時に時間の計測を始める\n",
    "print('-----ゲーム開始‼-----')\n",
    "point = 0\n",
    "st = time.time()\n",
    "\n",
    "# モグラのいる箇所を当てる\n",
    "for i in range(10):\n",
    "    r = random.randint(0 , 7)\n",
    "    mogura(r)\n",
    "    p = input('モグラのいる箇所を当てて下さい')\n",
    "    if p == str(r) :\n",
    "        print('HIT!')\n",
    "        point += 1\n",
    "    else :\n",
    "        print('MISS…')\n",
    "\n",
    "print('ゲーム終了‼')\n",
    "# ゲーム終了までの時間が1分以内なら60から減産した数をボーナスとして加算する\n",
    "end_time = time.time() - st\n",
    "if end_time < 60 :\n",
    "    bonus = 60 - end_time\n",
    "# ボーナス点と通常点の合計が最終得点\n",
    "    point += bonus\n",
    "print('最終得点:' , int(point) , '点')"
   ]
  },
  {
   "cell_type": "code",
   "execution_count": null,
   "id": "11a97ae6-0c63-4ea7-bee1-fda54f13b5b0",
   "metadata": {},
   "outputs": [],
   "source": [
    "# もぐらたたきゲーム 解答\n",
    "\n",
    "import time\n",
    "import random\n",
    "\n",
    "def mogura(r):\n",
    "    m = \"\"\n",
    "    n = \"\"\n",
    "    for i in range(8):\n",
    "        ana = \".\"\n",
    "        if i==r:\n",
    "            ana = \"O\"\n",
    "        m = m + \" _\" + ana + \"_ \"\n",
    "        n = n + \" [\" + str(i) + \"] \"\n",
    "    print(m)\n",
    "    print(n)\n",
    "\n",
    "print(\"========== ゲームスタート! ==========\")\n",
    "hit = 0\n",
    "ts = time.time()\n",
    "for i in range(10):\n",
    "    r = random.randint(0, 7)\n",
    "    mogura(r)\n",
    "    p = input(\"モグラはどこ? \")\n",
    "    if p == str(r):\n",
    "        print(\"HIT!\")\n",
    "        hit = hit + 1\n",
    "    else:\n",
    "        print(\"MISS\")\n",
    "t = int(time.time()-ts)\n",
    "bonus = 0\n",
    "if t<60:\n",
    "    bonus = 60-t\n",
    "print(\"========== ゲームエンド ==========\")\n",
    "print(\"TIME\", t, \"sec\")\n",
    "print(\"HIT\", hit, \"× BONUS\", bonus)\n",
    "print(\"SCORE\", hit*bonus)\n"
   ]
  },
  {
   "cell_type": "code",
   "execution_count": null,
   "id": "6e2e83f2-c2e6-40c7-ab08-5d3f4c4f0324",
   "metadata": {},
   "outputs": [],
   "source": []
  }
 ],
 "metadata": {
  "kernelspec": {
   "display_name": "Python 3 (ipykernel)",
   "language": "python",
   "name": "python3"
  },
  "language_info": {
   "codemirror_mode": {
    "name": "ipython",
    "version": 3
   },
   "file_extension": ".py",
   "mimetype": "text/x-python",
   "name": "python",
   "nbconvert_exporter": "python",
   "pygments_lexer": "ipython3",
   "version": "3.9.13"
  }
 },
 "nbformat": 4,
 "nbformat_minor": 5
}
