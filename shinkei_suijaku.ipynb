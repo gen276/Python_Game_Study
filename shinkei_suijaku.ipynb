{
 "cells": [
  {
   "cell_type": "code",
   "execution_count": null,
   "id": "cfced8d1-0cc0-4ab9-9f0f-5a174e6c276a",
   "metadata": {},
   "outputs": [],
   "source": [
    "# 神経衰弱\n",
    "# \n",
    "# 基本処理:画像を読み込んで表示する\n",
    "# 　※カードの使用枚数は26枚\n",
    "# シャッフル処理：カードをシャッフルする\n",
    "# 選択処理：カードを2枚選択する\n",
    "# 　選択したカードが同じ数であった場合、取り除くと共にポイントを2追加、再度選択する　※選択処理をもう一度行う\n",
    "# 　選択したカードが違った場合、コンピュータに手番が変更となる　→　コンピュータ処理\n",
    "# コンピュータ処理：2枚のカードをランダムで選択する\n",
    "# 　選択したカードが同じ数であった場合、取り除くと共にポイントを2追加、再度選択する　※コンピュータ処理をもう一度行う\n",
    "# 　選択したカードが違った場合、プレイヤーに手番が変更となる　→　選択処理\n",
    "# 累計ポイントを表示、ポイントの多い方が勝者となる\n",
    "# 累計ポイントが同じ場合は引き分けを表示する"
   ]
  },
  {
   "cell_type": "code",
   "execution_count": 2,
   "id": "ec605fc2-58d2-4dfa-a75c-258d61a1c1f1",
   "metadata": {},
   "outputs": [],
   "source": [
    "import tkinter\n",
    "\n",
    "img = [None] * 14\n",
    "\n",
    "# カードの画像を読み取り表示する変数\n",
    "def draw_card():\n",
    "    for i in range(14):\n",
    "        x = (i % 7) * 120 + 60\n",
    "        y = int(i / 7) * 168 + 84\n",
    "        cvs.create_image(x , y , image = img[i])\n",
    "\n",
    "root = tkinter.Tk()\n",
    "root.title('神経衰弱')\n",
    "root.resizable(False , False)\n",
    "cvs = tkinter.Canvas(width = '900' , height = '672')\n",
    "cvs.pack()\n",
    "# 基本となる画像を読み込む\n",
    "for i in range(14) :\n",
    "    img[i] = tkinter.PhotoImage(file = 'card/' + str(i) + '.png')\n",
    "draw_card()\n",
    "root.mainloop()"
   ]
  },
  {
   "cell_type": "code",
   "execution_count": null,
   "id": "35c5850c-f8a0-4c81-8213-f42dcbb67b0d",
   "metadata": {},
   "outputs": [],
   "source": []
  }
 ],
 "metadata": {
  "kernelspec": {
   "display_name": "Python 3 (ipykernel)",
   "language": "python",
   "name": "python3"
  },
  "language_info": {
   "codemirror_mode": {
    "name": "ipython",
    "version": 3
   },
   "file_extension": ".py",
   "mimetype": "text/x-python",
   "name": "python",
   "nbconvert_exporter": "python",
   "pygments_lexer": "ipython3",
   "version": "3.9.13"
  }
 },
 "nbformat": 4,
 "nbformat_minor": 5
}
