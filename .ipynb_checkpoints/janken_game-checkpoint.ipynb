{
 "cells": [
  {
   "cell_type": "code",
   "execution_count": 12,
   "id": "a1d4a433-73cb-4cdd-a186-57d5ca4df29a",
   "metadata": {},
   "outputs": [
    {
     "name": "stdout",
     "output_type": "stream",
     "text": [
      "/n 1 回戦目です\n"
     ]
    },
    {
     "name": "stdin",
     "output_type": "stream",
     "text": [
      "あなたの手を数値で入力して下さい \n",
      " 0 : グー , 1 : チョキ , 2 : パー 2\n"
     ]
    },
    {
     "name": "stdout",
     "output_type": "stream",
     "text": [
      "コンピューターの手は グー です\n",
      "あなたの勝ちです\n",
      "/n 2 回戦目です\n"
     ]
    },
    {
     "name": "stdin",
     "output_type": "stream",
     "text": [
      "あなたの手を数値で入力して下さい \n",
      " 0 : グー , 1 : チョキ , 2 : パー 1\n"
     ]
    },
    {
     "name": "stdout",
     "output_type": "stream",
     "text": [
      "コンピューターの手は グー です\n",
      "あなたの負けです\n",
      "/n 3 回戦目です\n"
     ]
    },
    {
     "name": "stdin",
     "output_type": "stream",
     "text": [
      "あなたの手を数値で入力して下さい \n",
      " 0 : グー , 1 : チョキ , 2 : パー 1\n"
     ]
    },
    {
     "name": "stdout",
     "output_type": "stream",
     "text": [
      "コンピューターの手は グー です\n",
      "あなたの負けです\n",
      "----最終結果----\n",
      "あなたのポイント 1\n",
      "コンピューターのポイント 2\n",
      "\n",
      " あなたの負け…\n"
     ]
    }
   ],
   "source": [
    "# じゃんけんゲーム 自作\n",
    "# ～仕様～\n",
    "# プレイヤーの手を0~2で入力\n",
    "# 記入した手がコンピュータに勝っているかどうかを判定\n",
    "# 勝利した方に1ポイント加算\n",
    "# 3回勝負の内2勝した方の勝利\n",
    "import random\n",
    "\n",
    "# コンピューターの手を乱数を使用して決める\n",
    "com = ['グー' , 'チョキ' , 'パー']\n",
    "c = random.randint(0 , 2)\n",
    "com_point = 0\n",
    "your_point = 0\n",
    "\n",
    "# 3回戦の勝負を作成する\n",
    "for i in range(3):\n",
    "    print('/n' , i + 1 , '回戦目です')\n",
    "    \n",
    "# 0 ~ 2以外の数値が入力されたらもう一度入力を促す\n",
    "# 自分の手を入力する\n",
    "    while True :\n",
    "        you = input('あなたの手を数値で入力して下さい \\n 0 : グー , 1 : チョキ , 2 : パー')\n",
    "        y = int(you)\n",
    "        if y == 0 or y == 1 or y == 2 :\n",
    "            break\n",
    "    \n",
    "# コンピューターの手を表示する\n",
    "    print('コンピューターの手は' , com[c] , 'です')\n",
    "\n",
    "# あいこの際はメッセージを表示する\n",
    "    if y == c :\n",
    "        print('あいこです')\n",
    "\n",
    "# 自分の手とコンピューターの手を比較し、勝者にポイントを付ける\n",
    "    if y == 0 :\n",
    "        if c == 1 :\n",
    "            print('あなたの勝ちです')\n",
    "            your_point += 1\n",
    "        if c == 2 :\n",
    "            print('あなたの負けです')\n",
    "            com_point += 1\n",
    "     \n",
    "    elif y == 1 :\n",
    "        if c == 2 :\n",
    "            print('あなたの勝ちです')\n",
    "            your_point += 1\n",
    "        if c == 0 :\n",
    "            print('あなたの負けです')\n",
    "            com_point += 1\n",
    "\n",
    "    elif y == 2 :\n",
    "        if c == 0 :\n",
    "            print('あなたの勝ちです')\n",
    "            your_point += 1\n",
    "        if c == 1 :\n",
    "            print('あなたの負けです')\n",
    "            com_point += 1\n",
    "            \n",
    "# 3回戦の終了後、勝者の名前を出力する\n",
    "print('----最終結果----')\n",
    "print('あなたのポイント' , your_point)\n",
    "print('コンピューターのポイント' , com_point)\n",
    "\n",
    "if your_point >= com_point :\n",
    "    print('\\n' , 'あなたの勝ち!')\n",
    "if your_point < com_point :\n",
    "    print('\\n' , 'あなたの負け…')"
   ]
  },
  {
   "cell_type": "code",
   "execution_count": null,
   "id": "25e2c077-58a9-413e-a3b3-a82226297035",
   "metadata": {},
   "outputs": [],
   "source": [
    "# じゃんけんゲーム 解答\n",
    "\n",
    "import random\n",
    "hand = [\"グー\", \"チョキ\", \"パー\"]\n",
    "you_win = 0\n",
    "com_win = 0\n",
    "print(\"コンピュータとじゃんけんをします。\")\n",
    "print(\"3回じゃんけんをして勝敗を決めます。\")\n",
    "\n",
    "for i in range(3):\n",
    "    print(\"\\n\", i+1, \"回目のじゃんけん\")\n",
    "    y = \"\"\n",
    "    while True:\n",
    "        y = input(\"あなたは何を出す？\\n0=グー 1=チョキ 2=パー \")\n",
    "        if y==\"0\" or y==\"1\" or y==\"2\":\n",
    "            break\n",
    "    y = int(y)\n",
    "    c = random.randint(0, 2)\n",
    "    print(\"コンピュータの手は\"+hand[c])\n",
    "    if y==c:\n",
    "        print(\"あいこです\")\n",
    "    if y == 0:\n",
    "        if c == 1:\n",
    "            print(\"あなたの勝ち\")\n",
    "            you_win = you_win+1\n",
    "        if c == 2:\n",
    "            print(\"コンピュータの勝ち\")\n",
    "            com_win = com_win+1\n",
    "    if y == 1:\n",
    "        if c == 0:\n",
    "            print(\"コンピュータの勝ち\")\n",
    "            com_win = com_win+1\n",
    "        if c == 2:\n",
    "            print(\"あなたの勝ち\")\n",
    "            you_win = you_win+1\n",
    "    if y == 2:\n",
    "        if c == 0:\n",
    "            print(\"あなたの勝ち\")\n",
    "            you_win = you_win+1\n",
    "        if c == 1:\n",
    "            print(\"コンピュータの勝ち\")\n",
    "            com_win = com_win+1\n",
    "\n",
    "print(\"--------------------\")\n",
    "print(\"あなたが勝った回数\", you_win)\n",
    "print(\"コンピュータが勝った回数\", com_win)\n",
    "if you_win>com_win:\n",
    "    print(\"あなたの勝利！\")\n",
    "elif com_win>you_win:\n",
    "    print(\"コンピュータの勝利！\")\n",
    "else:\n",
    "    print(\"引き分け\")"
   ]
  },
  {
   "cell_type": "code",
   "execution_count": null,
   "id": "af169157-880a-489e-8233-bee2f392e349",
   "metadata": {},
   "outputs": [],
   "source": []
  }
 ],
 "metadata": {
  "kernelspec": {
   "display_name": "Python 3 (ipykernel)",
   "language": "python",
   "name": "python3"
  },
  "language_info": {
   "codemirror_mode": {
    "name": "ipython",
    "version": 3
   },
   "file_extension": ".py",
   "mimetype": "text/x-python",
   "name": "python",
   "nbconvert_exporter": "python",
   "pygments_lexer": "ipython3",
   "version": "3.9.13"
  }
 },
 "nbformat": 4,
 "nbformat_minor": 5
}
