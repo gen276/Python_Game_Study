{
 "cells": [
  {
   "cell_type": "code",
   "execution_count": 2,
   "id": "5444c227-c4a2-498f-b1f5-69ee976b91fa",
   "metadata": {},
   "outputs": [
    {
     "name": "stdout",
     "output_type": "stream",
     "text": [
      "魚 は英語で何というでしょうか？\n"
     ]
    },
    {
     "name": "stdin",
     "output_type": "stream",
     "text": [
      "回答を入力 fish\n"
     ]
    },
    {
     "name": "stdout",
     "output_type": "stream",
     "text": [
      "正解です‼\n",
      "リンゴ は英語で何というでしょうか？\n"
     ]
    },
    {
     "name": "stdin",
     "output_type": "stream",
     "text": [
      "回答を入力 apple\n"
     ]
    },
    {
     "name": "stdout",
     "output_type": "stream",
     "text": [
      "正解です‼\n",
      "オレンジ は英語で何というでしょうか？\n"
     ]
    },
    {
     "name": "stdin",
     "output_type": "stream",
     "text": [
      "回答を入力 orange\n"
     ]
    },
    {
     "name": "stdout",
     "output_type": "stream",
     "text": [
      "正解です‼\n",
      "日本 は英語で何というでしょうか？\n"
     ]
    },
    {
     "name": "stdin",
     "output_type": "stream",
     "text": [
      "回答を入力 japan\n"
     ]
    },
    {
     "name": "stdout",
     "output_type": "stream",
     "text": [
      "不正解です...\n",
      "正解は Japan でした\n",
      "卵 は英語で何というでしょうか？\n"
     ]
    },
    {
     "name": "stdin",
     "output_type": "stream",
     "text": [
      "回答を入力 egg\n"
     ]
    },
    {
     "name": "stdout",
     "output_type": "stream",
     "text": [
      "正解です‼\n",
      "正解数: 4\n",
      "不正解数: 1\n"
     ]
    }
   ],
   "source": [
    "# 単語入力ゲーム 自作\n",
    "# ～仕様～\n",
    "# 日本語出力→英語を記入\n",
    "# 記入した英語が解答と一致→点数を加算\n",
    "# 解答と異なる→正答を表示\n",
    "\n",
    "# 解答を入れるリストを作成する\n",
    "Japanese = ['魚' , 'リンゴ' , 'オレンジ' , '日本' , '卵']\n",
    "English  = ['fish' , 'apple' , 'orange' , 'Japan' , 'egg']\n",
    "point = 0\n",
    "n = len(Japanese)\n",
    "\n",
    "for i in range(n):\n",
    "    print(Japanese[i] , 'は英語で何というでしょうか？')\n",
    "\n",
    "#　解答を入力する\n",
    "    ans = input('回答を入力')\n",
    "    \n",
    "# 解答が正解かどうかを判断し、ポイントを付ける\n",
    "    if ans == English[i]:\n",
    "        print('正解です‼')\n",
    "        point += 1\n",
    "    else :\n",
    "        print('不正解です...')\n",
    "        print('正解は' , English[i] , 'でした')\n",
    "\n",
    "# 最終的なポイントを表示する\n",
    "print('正解数:' , point)\n",
    "print('不正解数:' , n - point)"
   ]
  },
  {
   "cell_type": "code",
   "execution_count": null,
   "id": "1d714051-614e-46eb-a220-ad2ec001b4df",
   "metadata": {},
   "outputs": [],
   "source": [
    "# 単語入力ゲーム 解答\n",
    "\n",
    "japanese = [\"リンゴ\", \"本\", \"猫\", \"犬\", \"卵\", \"魚\", \"女の子\"]\n",
    "english = [\"apple\", \"book\", \"cat\", \"dog\", \"egg\", \"fish\", \"girl\"]\n",
    "n = len(japanese)\n",
    "right = 0\n",
    "for i in range(n):\n",
    "    a = input(japanese[i]+\"の英単語は？ \")\n",
    "    if a==english[i]:\n",
    "        print(\"正解です\")\n",
    "        right = right + 1\n",
    "    else:\n",
    "        print(\"違います\")\n",
    "        print(\"正しくは\"+english[i])\n",
    "print(\"終了です\")\n",
    "print(\"正解数\", right)\n",
    "print(\"間違い\", n-right)"
   ]
  }
 ],
 "metadata": {
  "kernelspec": {
   "display_name": "Python 3 (ipykernel)",
   "language": "python",
   "name": "python3"
  },
  "language_info": {
   "codemirror_mode": {
    "name": "ipython",
    "version": 3
   },
   "file_extension": ".py",
   "mimetype": "text/x-python",
   "name": "python",
   "nbconvert_exporter": "python",
   "pygments_lexer": "ipython3",
   "version": "3.9.13"
  }
 },
 "nbformat": 4,
 "nbformat_minor": 5
}
